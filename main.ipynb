{
 "cells": [
  {
   "cell_type": "markdown",
   "metadata": {
    "id": "2gv2i9fNDvrg"
   },
   "source": [
    "## Post Sentiment Classification Task"
   ]
  },
  {
   "cell_type": "code",
   "execution_count": 4,
   "metadata": {
    "id": "ZG9BpbQt3-ko"
   },
   "outputs": [],
   "source": [
    "import pandas as pd\n",
    "import numpy as np\n",
    "from matplotlib import pyplot as plt\n",
    "import seaborn as sns\n",
    "\n",
    "train_data = pd.read_json(\"https://raw.githubusercontent.com/rpsoft/tad_course/main/reddit_sentiment_train.json\")\n",
    "\n",
    "validation_data = pd.read_json(\"https://raw.githubusercontent.com/rpsoft/tad_course/main/reddit_sentiment_validation.json\")\n",
    "\n",
    "test_data = pd.read_json(\"https://raw.githubusercontent.com/rpsoft/tad_course/main/reddit_sentiment_test.json\")"
   ]
  },
  {
   "cell_type": "code",
   "execution_count": 5,
   "metadata": {
    "id": "REvXkGRbdx0i"
   },
   "outputs": [
    {
     "data": {
      "image/png": "[encoded data removed]",
      "text/plain": [
       "<Figure size 432x288 with 1 Axes>"
      ]
     },
     "metadata": {
      "needs_background": "light"
     },
     "output_type": "display_data"
    },
    {
     "data": {
      "image/png": "[encoded data removed]",
      "text/plain": [
       "<Figure size 432x288 with 1 Axes>"
      ]
     },
     "metadata": {
      "needs_background": "light"
     },
     "output_type": "display_data"
    },
    {
     "data": {
      "image/png": "[encoded data removed]",
      "text/plain": [
       "<Figure size 432x288 with 1 Axes>"
      ]
     },
     "metadata": {
      "needs_background": "light"
     },
     "output_type": "display_data"
    }
   ],
   "source": [
    "a=0\n",
    "datasets = [train_data, validation_data, test_data] \n",
    "titles = ['Train set','Validation set','Test set']\n",
    "for i in datasets:\n",
    "    plt.title(titles[a])\n",
    "    sns.countplot( x= 'sentiment.polarity', data = i)\n",
    "    plt.show()\n",
    "    a+=1"
   ]
  },
  {
   "cell_type": "markdown",
   "metadata": {},
   "source": [
    "Length of each data set"
   ]
  },
  {
   "cell_type": "code",
   "execution_count": 6,
   "metadata": {},
   "outputs": [
    {
     "name": "stdout",
     "output_type": "stream",
     "text": [
      "Train set contains 12138 reviews\n",
      "The distribution of reviews are as follows,\n",
      "neutral          7679\n",
      "positive         3231\n",
      "negative          878\n",
      "very positive     253\n",
      "very negative      97\n",
      "Name: sentiment.polarity, dtype: int64\n",
      "\n",
      "\n",
      "Validation set contains 3109 reviews\n",
      "The distribution of reviews are as follows,\n",
      "neutral          1961\n",
      "positive          845\n",
      "negative          215\n",
      "very positive      73\n",
      "very negative      15\n",
      "Name: sentiment.polarity, dtype: int64\n",
      "\n",
      "\n",
      "Test set contains 4016 reviews\n",
      "The distribution of reviews are as follows,\n",
      "neutral          2514\n",
      "positive         1102\n",
      "negative          282\n",
      "very positive      86\n",
      "very negative      32\n",
      "Name: sentiment.polarity, dtype: int64\n",
      "\n",
      "\n"
     ]
    }
   ],
   "source": [
    "a= 0 \n",
    "for i in datasets:\n",
    "    print('{} contains {} reviews'.format(titles[a],len(i)))\n",
    "    print('The distribution of reviews are as follows,')\n",
    "    print(i['sentiment.polarity'].value_counts())\n",
    "    print('\\n')\n",
    "    a+=1"
   ]
  },
  {
   "cell_type": "code",
   "execution_count": 14,
   "metadata": {},
   "outputs": [
    {
     "name": "stderr",
     "output_type": "stream",
     "text": [
      "[nltk_data] Downloading package stopwords to\n",
      "[nltk_data]     C:\\Users\\arung\\AppData\\Roaming\\nltk_data...\n",
      "[nltk_data]   Package stopwords is already up-to-date!\n"
     ]
    },
    {
     "data": {
      "text/plain": [
       "True"
      ]
     },
     "execution_count": 14,
     "metadata": {},
     "output_type": "execute_result"
    }
   ],
   "source": [
    "import spacy\n",
    "\n",
    "# Load the small english model. \n",
    "# Disable the advanced NLP features in the pipeline for efficiency.\n",
    "nlp = spacy.load('en_core_web_sm', disable=['ner','lemmatizer'])\n",
    "nlp.remove_pipe('tagger')\n",
    "nlp.remove_pipe('parser')\n",
    "\n",
    "# Download a stopword list\n",
    "import nltk\n",
    "nltk.download('stopwords')\n"
   ]
  },
  {
   "cell_type": "markdown",
   "metadata": {},
   "source": [
    "Tokenize and Normalize"
   ]
  },
  {
   "cell_type": "code",
   "execution_count": 15,
   "metadata": {},
   "outputs": [],
   "source": [
    "#Tokenize\n",
    "def spacy_tokenize(string):\n",
    "    tokens = list()\n",
    "    doc = nlp(string)\n",
    "    for token in doc:\n",
    "        tokens.append(token)\n",
    "    return tokens\n",
    "\n",
    "#Normalize\n",
    "def normalize(tokens):\n",
    "    normalized_tokens = list()\n",
    "    for token in tokens:\n",
    "        normalized = token.text.lower().strip()\n",
    "        if ((token.is_alpha or token.is_digit)):\n",
    "            normalized_tokens.append(normalized)\n",
    "    return normalized_tokens\n",
    "\n",
    "#Tokenize and normalize\n",
    "def tokenize_normalize(string):\n",
    "    return normalize(spacy_tokenize(string))"
   ]
  },
  {
   "cell_type": "code",
   "execution_count": 18,
   "metadata": {},
   "outputs": [
    {
     "data": {
      "text/html": [
       "<div>\n",
       "<style scoped>\n",
       "    .dataframe tbody tr th:only-of-type {\n",
       "        vertical-align: middle;\n",
       "    }\n",
       "\n",
       "    .dataframe tbody tr th {\n",
       "        vertical-align: top;\n",
       "    }\n",
       "\n",
       "    .dataframe thead th {\n",
       "        text-align: right;\n",
       "    }\n",
       "</style>\n",
       "<table border=\"1\" class=\"dataframe\">\n",
       "  <thead>\n",
       "    <tr style=\"text-align: right;\">\n",
       "      <th></th>\n",
       "      <th>subreddit</th>\n",
       "      <th>title</th>\n",
       "      <th>id</th>\n",
       "      <th>url</th>\n",
       "      <th>author</th>\n",
       "      <th>body</th>\n",
       "      <th>majority_type</th>\n",
       "      <th>is_first_post</th>\n",
       "      <th>post_depth</th>\n",
       "      <th>in_reply_to</th>\n",
       "      <th>sentiment.polarity</th>\n",
       "      <th>sentiment.subjectivity</th>\n",
       "    </tr>\n",
       "  </thead>\n",
       "  <tbody>\n",
       "    <tr>\n",
       "      <th>0</th>\n",
       "      <td>relationships</td>\n",
       "      <td>My Friend/Crush [22/F] acting weird after I [2...</td>\n",
       "      <td>t1_cy7f317</td>\n",
       "      <td>https://www.reddit.com/r/relationships/comment...</td>\n",
       "      <td>Melodrama_</td>\n",
       "      <td>It's a sad realization, isn't it?</td>\n",
       "      <td></td>\n",
       "      <td>False</td>\n",
       "      <td>2</td>\n",
       "      <td>t1_cy7erc5</td>\n",
       "      <td>negative</td>\n",
       "      <td>1.000000</td>\n",
       "    </tr>\n",
       "    <tr>\n",
       "      <th>1</th>\n",
       "      <td>relationships</td>\n",
       "      <td>My Friend/Crush [22/F] acting weird after I [2...</td>\n",
       "      <td>t1_cy7hlyf</td>\n",
       "      <td>https://www.reddit.com/r/relationships/comment...</td>\n",
       "      <td>Melodrama_</td>\n",
       "      <td>I told her a couple of minutes ago that I didn...</td>\n",
       "      <td>elaboration</td>\n",
       "      <td>False</td>\n",
       "      <td>2</td>\n",
       "      <td>t1_cy7erc5</td>\n",
       "      <td>neutral</td>\n",
       "      <td>0.483631</td>\n",
       "    </tr>\n",
       "    <tr>\n",
       "      <th>2</th>\n",
       "      <td>relationships</td>\n",
       "      <td>My Friend/Crush [22/F] acting weird after I [2...</td>\n",
       "      <td>t1_cy7etrr</td>\n",
       "      <td>https://www.reddit.com/r/relationships/comment...</td>\n",
       "      <td>TreatYoSelves</td>\n",
       "      <td>Leeches don't make good friends.</td>\n",
       "      <td>answer</td>\n",
       "      <td>False</td>\n",
       "      <td>1</td>\n",
       "      <td>t3_3xshx9</td>\n",
       "      <td>positive</td>\n",
       "      <td>0.600000</td>\n",
       "    </tr>\n",
       "    <tr>\n",
       "      <th>3</th>\n",
       "      <td>relationships</td>\n",
       "      <td>My Friend/Crush [22/F] acting weird after I [2...</td>\n",
       "      <td>t1_cy7hhpq</td>\n",
       "      <td>https://www.reddit.com/r/relationships/comment...</td>\n",
       "      <td>Melodrama_</td>\n",
       "      <td>I just ended it. Apparently she wasn't a good ...</td>\n",
       "      <td>elaboration</td>\n",
       "      <td>False</td>\n",
       "      <td>2</td>\n",
       "      <td>t1_cy7etrr</td>\n",
       "      <td>positive</td>\n",
       "      <td>0.475000</td>\n",
       "    </tr>\n",
       "    <tr>\n",
       "      <th>4</th>\n",
       "      <td>relationships</td>\n",
       "      <td>My Friend/Crush [22/F] acting weird after I [2...</td>\n",
       "      <td>t1_cy7q0qg</td>\n",
       "      <td>https://www.reddit.com/r/relationships/comment...</td>\n",
       "      <td>TreatYoSelves</td>\n",
       "      <td>Good for you!  Make sure you stick with it.</td>\n",
       "      <td>appreciation</td>\n",
       "      <td>False</td>\n",
       "      <td>3</td>\n",
       "      <td>t1_cy7hhpq</td>\n",
       "      <td>positive</td>\n",
       "      <td>0.744444</td>\n",
       "    </tr>\n",
       "    <tr>\n",
       "      <th>...</th>\n",
       "      <td>...</td>\n",
       "      <td>...</td>\n",
       "      <td>...</td>\n",
       "      <td>...</td>\n",
       "      <td>...</td>\n",
       "      <td>...</td>\n",
       "      <td>...</td>\n",
       "      <td>...</td>\n",
       "      <td>...</td>\n",
       "      <td>...</td>\n",
       "      <td>...</td>\n",
       "      <td>...</td>\n",
       "    </tr>\n",
       "    <tr>\n",
       "      <th>12133</th>\n",
       "      <td>reddit.com</td>\n",
       "      <td>If I announced myself as God right now, would ...</td>\n",
       "      <td>t1_c1zpyd0</td>\n",
       "      <td>https://www.reddit.com/r/reddit.com/comments/h...</td>\n",
       "      <td></td>\n",
       "      <td>If you were God, you'd know whether we would b...</td>\n",
       "      <td>answer</td>\n",
       "      <td>False</td>\n",
       "      <td>1</td>\n",
       "      <td>t3_hzu51</td>\n",
       "      <td>neutral</td>\n",
       "      <td>0.000000</td>\n",
       "    </tr>\n",
       "    <tr>\n",
       "      <th>12134</th>\n",
       "      <td>reddit.com</td>\n",
       "      <td>If I announced myself as God right now, would ...</td>\n",
       "      <td>t1_c1zpz7m</td>\n",
       "      <td>https://www.reddit.com/r/reddit.com/comments/h...</td>\n",
       "      <td>TheCannon</td>\n",
       "      <td>If I check my account balance in 5 minutes and...</td>\n",
       "      <td>answer</td>\n",
       "      <td>False</td>\n",
       "      <td>1</td>\n",
       "      <td>t3_hzu51</td>\n",
       "      <td>neutral</td>\n",
       "      <td>0.000000</td>\n",
       "    </tr>\n",
       "    <tr>\n",
       "      <th>12135</th>\n",
       "      <td>reddit.com</td>\n",
       "      <td>If I announced myself as God right now, would ...</td>\n",
       "      <td>t1_c1zq0tl</td>\n",
       "      <td>https://www.reddit.com/r/reddit.com/comments/h...</td>\n",
       "      <td>alllie</td>\n",
       "      <td>I don't know. Can you heal the sick with a tou...</td>\n",
       "      <td>answer</td>\n",
       "      <td>False</td>\n",
       "      <td>1</td>\n",
       "      <td>t3_hzu51</td>\n",
       "      <td>negative</td>\n",
       "      <td>0.637202</td>\n",
       "    </tr>\n",
       "    <tr>\n",
       "      <th>12136</th>\n",
       "      <td>reddit.com</td>\n",
       "      <td>If I announced myself as God right now, would ...</td>\n",
       "      <td>t1_c1zq19j</td>\n",
       "      <td>https://www.reddit.com/r/reddit.com/comments/h...</td>\n",
       "      <td>TheCannon</td>\n",
       "      <td>... Give LeBron James a championship ring?</td>\n",
       "      <td>humor</td>\n",
       "      <td>False</td>\n",
       "      <td>2</td>\n",
       "      <td>t1_c1zq0tl</td>\n",
       "      <td>neutral</td>\n",
       "      <td>0.000000</td>\n",
       "    </tr>\n",
       "    <tr>\n",
       "      <th>12137</th>\n",
       "      <td>reddit.com</td>\n",
       "      <td>If I announced myself as God right now, would ...</td>\n",
       "      <td>t1_c1zqg1w</td>\n",
       "      <td>https://www.reddit.com/r/reddit.com/comments/h...</td>\n",
       "      <td>blueiiiis</td>\n",
       "      <td>Well, if you believed it, that'd be one</td>\n",
       "      <td>answer</td>\n",
       "      <td>False</td>\n",
       "      <td>1</td>\n",
       "      <td>t3_hzu51</td>\n",
       "      <td>neutral</td>\n",
       "      <td>0.000000</td>\n",
       "    </tr>\n",
       "  </tbody>\n",
       "</table>\n",
       "<p>12138 rows × 12 columns</p>\n",
       "</div>"
      ],
      "text/plain": [
       "           subreddit                                              title  \\\n",
       "0      relationships  My Friend/Crush [22/F] acting weird after I [2...   \n",
       "1      relationships  My Friend/Crush [22/F] acting weird after I [2...   \n",
       "2      relationships  My Friend/Crush [22/F] acting weird after I [2...   \n",
       "3      relationships  My Friend/Crush [22/F] acting weird after I [2...   \n",
       "4      relationships  My Friend/Crush [22/F] acting weird after I [2...   \n",
       "...              ...                                                ...   \n",
       "12133     reddit.com  If I announced myself as God right now, would ...   \n",
       "12134     reddit.com  If I announced myself as God right now, would ...   \n",
       "12135     reddit.com  If I announced myself as God right now, would ...   \n",
       "12136     reddit.com  If I announced myself as God right now, would ...   \n",
       "12137     reddit.com  If I announced myself as God right now, would ...   \n",
       "\n",
       "               id                                                url  \\\n",
       "0      t1_cy7f317  https://www.reddit.com/r/relationships/comment...   \n",
       "1      t1_cy7hlyf  https://www.reddit.com/r/relationships/comment...   \n",
       "2      t1_cy7etrr  https://www.reddit.com/r/relationships/comment...   \n",
       "3      t1_cy7hhpq  https://www.reddit.com/r/relationships/comment...   \n",
       "4      t1_cy7q0qg  https://www.reddit.com/r/relationships/comment...   \n",
       "...           ...                                                ...   \n",
       "12133  t1_c1zpyd0  https://www.reddit.com/r/reddit.com/comments/h...   \n",
       "12134  t1_c1zpz7m  https://www.reddit.com/r/reddit.com/comments/h...   \n",
       "12135  t1_c1zq0tl  https://www.reddit.com/r/reddit.com/comments/h...   \n",
       "12136  t1_c1zq19j  https://www.reddit.com/r/reddit.com/comments/h...   \n",
       "12137  t1_c1zqg1w  https://www.reddit.com/r/reddit.com/comments/h...   \n",
       "\n",
       "              author                                               body  \\\n",
       "0         Melodrama_                  It's a sad realization, isn't it?   \n",
       "1         Melodrama_  I told her a couple of minutes ago that I didn...   \n",
       "2      TreatYoSelves                  Leeches don't make good friends.    \n",
       "3         Melodrama_  I just ended it. Apparently she wasn't a good ...   \n",
       "4      TreatYoSelves       Good for you!  Make sure you stick with it.    \n",
       "...              ...                                                ...   \n",
       "12133                 If you were God, you'd know whether we would b...   \n",
       "12134      TheCannon  If I check my account balance in 5 minutes and...   \n",
       "12135         alllie  I don't know. Can you heal the sick with a tou...   \n",
       "12136      TheCannon         ... Give LeBron James a championship ring?   \n",
       "12137      blueiiiis            Well, if you believed it, that'd be one   \n",
       "\n",
       "      majority_type  is_first_post  post_depth in_reply_to sentiment.polarity  \\\n",
       "0                            False           2  t1_cy7erc5           negative   \n",
       "1       elaboration          False           2  t1_cy7erc5            neutral   \n",
       "2            answer          False           1   t3_3xshx9           positive   \n",
       "3       elaboration          False           2  t1_cy7etrr           positive   \n",
       "4      appreciation          False           3  t1_cy7hhpq           positive   \n",
       "...             ...            ...         ...         ...                ...   \n",
       "12133        answer          False           1    t3_hzu51            neutral   \n",
       "12134        answer          False           1    t3_hzu51            neutral   \n",
       "12135        answer          False           1    t3_hzu51           negative   \n",
       "12136         humor          False           2  t1_c1zq0tl            neutral   \n",
       "12137        answer          False           1    t3_hzu51            neutral   \n",
       "\n",
       "       sentiment.subjectivity  \n",
       "0                    1.000000  \n",
       "1                    0.483631  \n",
       "2                    0.600000  \n",
       "3                    0.475000  \n",
       "4                    0.744444  \n",
       "...                       ...  \n",
       "12133                0.000000  \n",
       "12134                0.000000  \n",
       "12135                0.637202  \n",
       "12136                0.000000  \n",
       "12137                0.000000  \n",
       "\n",
       "[12138 rows x 12 columns]"
      ]
     },
     "execution_count": 18,
     "metadata": {},
     "output_type": "execute_result"
    }
   ],
   "source": [
    "train_data"
   ]
  },
  {
   "cell_type": "markdown",
   "metadata": {},
   "source": [
    "Count Vectorizer"
   ]
  },
  {
   "cell_type": "code",
   "execution_count": 19,
   "metadata": {},
   "outputs": [],
   "source": [
    "from sklearn.feature_extraction.text import CountVectorizer\n",
    "\n",
    "one_hot_vectorizer = CountVectorizer(tokenizer=tokenize_normalize, binary=True)\n",
    "train_features = one_hot_vectorizer.fit_transform(train_data['body'])\n",
    "\n",
    "# This creates input features for our classification on all subsets of our collection.\n",
    "validation_features = one_hot_vectorizer.transform(validation_data['body'])\n",
    "test_features = one_hot_vectorizer.transform(test_data['body'])"
   ]
  },
  {
   "cell_type": "markdown",
   "metadata": {},
   "source": [
    "Label Encoding"
   ]
  },
  {
   "cell_type": "code",
   "execution_count": 23,
   "metadata": {},
   "outputs": [],
   "source": [
    "from sklearn.preprocessing import LabelEncoder\n",
    "\n",
    "le = LabelEncoder()\n",
    "train_labels = le.fit_transform(train_data['sentiment.polarity'])\n",
    "validation_labels = le.transform(validation_data['sentiment.polarity'])\n",
    "test_labels = le.transform(test_data['sentiment.polarity'])"
   ]
  },
  {
   "cell_type": "markdown",
   "metadata": {},
   "source": [
    "Dummy Classifier"
   ]
  },
  {
   "cell_type": "code",
   "execution_count": null,
   "metadata": {},
   "outputs": [],
   "source": []
  },
  {
   "cell_type": "code",
   "execution_count": null,
   "metadata": {},
   "outputs": [],
   "source": []
  }
 ],
 "metadata": {
  "colab": {
   "collapsed_sections": [],
   "name": "TaD Coursework Skeleton 2021 - May-June",
   "provenance": []
  },
  "kernelspec": {
   "display_name": "Python 3",
   "language": "python",
   "name": "python3"
  },
  "language_info": {
   "codemirror_mode": {
    "name": "ipython",
    "version": 3
   },
   "file_extension": ".py",
   "mimetype": "text/x-python",
   "name": "python",
   "nbconvert_exporter": "python",
   "pygments_lexer": "ipython3",
   "version": "3.8.5"
  }
 },
 "nbformat": 4,
 "nbformat_minor": 1
}
